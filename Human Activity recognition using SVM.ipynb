{
 "cells": [
  {
   "cell_type": "code",
   "execution_count": 5,
   "metadata": {
    "collapsed": true
   },
   "outputs": [],
   "source": [
    "import numpy as np\n",
    "import pandas as pd\n",
    "import matplotlib.pyplot as plt"
   ]
  },
  {
   "cell_type": "code",
   "execution_count": 6,
   "metadata": {
    "scrolled": true
   },
   "outputs": [
    {
     "data": {
      "text/html": [
       "<div>\n",
       "<style>\n",
       "    .dataframe thead tr:only-child th {\n",
       "        text-align: right;\n",
       "    }\n",
       "\n",
       "    .dataframe thead th {\n",
       "        text-align: left;\n",
       "    }\n",
       "\n",
       "    .dataframe tbody tr th {\n",
       "        vertical-align: top;\n",
       "    }\n",
       "</style>\n",
       "<table border=\"1\" class=\"dataframe\">\n",
       "  <thead>\n",
       "    <tr style=\"text-align: right;\">\n",
       "      <th></th>\n",
       "      <th>rn</th>\n",
       "      <th>activity</th>\n",
       "      <th>tBodyAcc.mean.X</th>\n",
       "      <th>tBodyAcc.mean.Y</th>\n",
       "      <th>tBodyAcc.mean.Z</th>\n",
       "      <th>tBodyAcc.std.X</th>\n",
       "      <th>tBodyAcc.std.Y</th>\n",
       "      <th>tBodyAcc.std.Z</th>\n",
       "      <th>tBodyAcc.mad.X</th>\n",
       "      <th>tBodyAcc.mad.Y</th>\n",
       "      <th>...</th>\n",
       "      <th>fBodyBodyGyroJerkMag.meanFreq</th>\n",
       "      <th>fBodyBodyGyroJerkMag.skewness</th>\n",
       "      <th>fBodyBodyGyroJerkMag.kurtosis</th>\n",
       "      <th>angle.tBodyAccMean.gravity</th>\n",
       "      <th>angle.tBodyAccJerkMean.gravityMean</th>\n",
       "      <th>angle.tBodyGyroMean.gravityMean</th>\n",
       "      <th>angle.tBodyGyroJerkMean.gravityMean</th>\n",
       "      <th>angle.X.gravityMean</th>\n",
       "      <th>angle.Y.gravityMean</th>\n",
       "      <th>angle.Z.gravityMean</th>\n",
       "    </tr>\n",
       "  </thead>\n",
       "  <tbody>\n",
       "    <tr>\n",
       "      <th>0</th>\n",
       "      <td>7</td>\n",
       "      <td>STANDING</td>\n",
       "      <td>0.279</td>\n",
       "      <td>-0.0196</td>\n",
       "      <td>-0.1100</td>\n",
       "      <td>-0.997</td>\n",
       "      <td>-0.967</td>\n",
       "      <td>-0.983</td>\n",
       "      <td>-0.997</td>\n",
       "      <td>-0.966</td>\n",
       "      <td>...</td>\n",
       "      <td>0.146</td>\n",
       "      <td>-0.217</td>\n",
       "      <td>-0.5640</td>\n",
       "      <td>-0.2130</td>\n",
       "      <td>-0.2310</td>\n",
       "      <td>0.0146</td>\n",
       "      <td>-0.190</td>\n",
       "      <td>-0.852</td>\n",
       "      <td>0.182</td>\n",
       "      <td>-0.0430</td>\n",
       "    </tr>\n",
       "    <tr>\n",
       "      <th>1</th>\n",
       "      <td>11</td>\n",
       "      <td>STANDING</td>\n",
       "      <td>0.277</td>\n",
       "      <td>-0.0127</td>\n",
       "      <td>-0.1030</td>\n",
       "      <td>-0.995</td>\n",
       "      <td>-0.973</td>\n",
       "      <td>-0.985</td>\n",
       "      <td>-0.996</td>\n",
       "      <td>-0.974</td>\n",
       "      <td>...</td>\n",
       "      <td>0.121</td>\n",
       "      <td>0.349</td>\n",
       "      <td>0.0577</td>\n",
       "      <td>0.0807</td>\n",
       "      <td>0.5960</td>\n",
       "      <td>-0.4760</td>\n",
       "      <td>0.116</td>\n",
       "      <td>-0.852</td>\n",
       "      <td>0.188</td>\n",
       "      <td>-0.0347</td>\n",
       "    </tr>\n",
       "    <tr>\n",
       "      <th>2</th>\n",
       "      <td>14</td>\n",
       "      <td>STANDING</td>\n",
       "      <td>0.277</td>\n",
       "      <td>-0.0147</td>\n",
       "      <td>-0.1070</td>\n",
       "      <td>-0.999</td>\n",
       "      <td>-0.991</td>\n",
       "      <td>-0.993</td>\n",
       "      <td>-0.999</td>\n",
       "      <td>-0.991</td>\n",
       "      <td>...</td>\n",
       "      <td>0.740</td>\n",
       "      <td>-0.564</td>\n",
       "      <td>-0.7660</td>\n",
       "      <td>0.1060</td>\n",
       "      <td>-0.0903</td>\n",
       "      <td>-0.1320</td>\n",
       "      <td>0.499</td>\n",
       "      <td>-0.850</td>\n",
       "      <td>0.189</td>\n",
       "      <td>-0.0351</td>\n",
       "    </tr>\n",
       "    <tr>\n",
       "      <th>3</th>\n",
       "      <td>15</td>\n",
       "      <td>STANDING</td>\n",
       "      <td>0.298</td>\n",
       "      <td>0.0271</td>\n",
       "      <td>-0.0617</td>\n",
       "      <td>-0.989</td>\n",
       "      <td>-0.817</td>\n",
       "      <td>-0.902</td>\n",
       "      <td>-0.989</td>\n",
       "      <td>-0.794</td>\n",
       "      <td>...</td>\n",
       "      <td>0.131</td>\n",
       "      <td>0.208</td>\n",
       "      <td>-0.0681</td>\n",
       "      <td>0.0623</td>\n",
       "      <td>-0.0587</td>\n",
       "      <td>0.0312</td>\n",
       "      <td>-0.269</td>\n",
       "      <td>-0.731</td>\n",
       "      <td>0.283</td>\n",
       "      <td>0.0364</td>\n",
       "    </tr>\n",
       "    <tr>\n",
       "      <th>4</th>\n",
       "      <td>20</td>\n",
       "      <td>STANDING</td>\n",
       "      <td>0.276</td>\n",
       "      <td>-0.0170</td>\n",
       "      <td>-0.1110</td>\n",
       "      <td>-0.998</td>\n",
       "      <td>-0.991</td>\n",
       "      <td>-0.998</td>\n",
       "      <td>-0.998</td>\n",
       "      <td>-0.989</td>\n",
       "      <td>...</td>\n",
       "      <td>0.667</td>\n",
       "      <td>-0.942</td>\n",
       "      <td>-0.9660</td>\n",
       "      <td>0.2450</td>\n",
       "      <td>0.1030</td>\n",
       "      <td>0.0661</td>\n",
       "      <td>-0.412</td>\n",
       "      <td>-0.761</td>\n",
       "      <td>0.263</td>\n",
       "      <td>0.0296</td>\n",
       "    </tr>\n",
       "  </tbody>\n",
       "</table>\n",
       "<p>5 rows × 563 columns</p>\n",
       "</div>"
      ],
      "text/plain": [
       "   rn  activity  tBodyAcc.mean.X  tBodyAcc.mean.Y  tBodyAcc.mean.Z  \\\n",
       "0   7  STANDING            0.279          -0.0196          -0.1100   \n",
       "1  11  STANDING            0.277          -0.0127          -0.1030   \n",
       "2  14  STANDING            0.277          -0.0147          -0.1070   \n",
       "3  15  STANDING            0.298           0.0271          -0.0617   \n",
       "4  20  STANDING            0.276          -0.0170          -0.1110   \n",
       "\n",
       "   tBodyAcc.std.X  tBodyAcc.std.Y  tBodyAcc.std.Z  tBodyAcc.mad.X  \\\n",
       "0          -0.997          -0.967          -0.983          -0.997   \n",
       "1          -0.995          -0.973          -0.985          -0.996   \n",
       "2          -0.999          -0.991          -0.993          -0.999   \n",
       "3          -0.989          -0.817          -0.902          -0.989   \n",
       "4          -0.998          -0.991          -0.998          -0.998   \n",
       "\n",
       "   tBodyAcc.mad.Y         ...           fBodyBodyGyroJerkMag.meanFreq  \\\n",
       "0          -0.966         ...                                   0.146   \n",
       "1          -0.974         ...                                   0.121   \n",
       "2          -0.991         ...                                   0.740   \n",
       "3          -0.794         ...                                   0.131   \n",
       "4          -0.989         ...                                   0.667   \n",
       "\n",
       "   fBodyBodyGyroJerkMag.skewness  fBodyBodyGyroJerkMag.kurtosis  \\\n",
       "0                         -0.217                        -0.5640   \n",
       "1                          0.349                         0.0577   \n",
       "2                         -0.564                        -0.7660   \n",
       "3                          0.208                        -0.0681   \n",
       "4                         -0.942                        -0.9660   \n",
       "\n",
       "   angle.tBodyAccMean.gravity  angle.tBodyAccJerkMean.gravityMean  \\\n",
       "0                     -0.2130                             -0.2310   \n",
       "1                      0.0807                              0.5960   \n",
       "2                      0.1060                             -0.0903   \n",
       "3                      0.0623                             -0.0587   \n",
       "4                      0.2450                              0.1030   \n",
       "\n",
       "   angle.tBodyGyroMean.gravityMean  angle.tBodyGyroJerkMean.gravityMean  \\\n",
       "0                           0.0146                               -0.190   \n",
       "1                          -0.4760                                0.116   \n",
       "2                          -0.1320                                0.499   \n",
       "3                           0.0312                               -0.269   \n",
       "4                           0.0661                               -0.412   \n",
       "\n",
       "   angle.X.gravityMean  angle.Y.gravityMean  angle.Z.gravityMean  \n",
       "0               -0.852                0.182              -0.0430  \n",
       "1               -0.852                0.188              -0.0347  \n",
       "2               -0.850                0.189              -0.0351  \n",
       "3               -0.731                0.283               0.0364  \n",
       "4               -0.761                0.263               0.0296  \n",
       "\n",
       "[5 rows x 563 columns]"
      ]
     },
     "execution_count": 6,
     "metadata": {},
     "output_type": "execute_result"
    }
   ],
   "source": [
    "human_activity_train = pd.read_csv(\"E:/mousita/ML/train.csv/human_activity_train_2.csv\")\n",
    "human_activity_test  = pd.read_csv(\"E:/mousita/ML/test.csv/human_activity_test_2.csv\")\n",
    "human_activity_train.head(5)\n",
    "#human_activity_test.head(5)"
   ]
  },
  {
   "cell_type": "code",
   "execution_count": 7,
   "metadata": {
    "scrolled": true
   },
   "outputs": [
    {
     "data": {
      "text/plain": [
       "0                 STANDING\n",
       "1                 STANDING\n",
       "2                 STANDING\n",
       "3                 STANDING\n",
       "4                 STANDING\n",
       "5                 STANDING\n",
       "6                 STANDING\n",
       "7                 STANDING\n",
       "8                  SITTING\n",
       "9                  SITTING\n",
       "10                 SITTING\n",
       "11                 SITTING\n",
       "12                 SITTING\n",
       "13                 SITTING\n",
       "14                 SITTING\n",
       "15                  LAYING\n",
       "16                  LAYING\n",
       "17                  LAYING\n",
       "18                  LAYING\n",
       "19                  LAYING\n",
       "20                  LAYING\n",
       "21                  LAYING\n",
       "22                  LAYING\n",
       "23                  LAYING\n",
       "24                  LAYING\n",
       "25                  LAYING\n",
       "26                 WALKING\n",
       "27                 WALKING\n",
       "28                 WALKING\n",
       "29                 WALKING\n",
       "               ...        \n",
       "3579                LAYING\n",
       "3580                LAYING\n",
       "3581                LAYING\n",
       "3582                LAYING\n",
       "3583                LAYING\n",
       "3584                LAYING\n",
       "3585                LAYING\n",
       "3586               WALKING\n",
       "3587               WALKING\n",
       "3588               WALKING\n",
       "3589               WALKING\n",
       "3590               WALKING\n",
       "3591               WALKING\n",
       "3592    WALKING_DOWNSTAIRS\n",
       "3593    WALKING_DOWNSTAIRS\n",
       "3594    WALKING_DOWNSTAIRS\n",
       "3595    WALKING_DOWNSTAIRS\n",
       "3596    WALKING_DOWNSTAIRS\n",
       "3597    WALKING_DOWNSTAIRS\n",
       "3598      WALKING_UPSTAIRS\n",
       "3599      WALKING_UPSTAIRS\n",
       "3600      WALKING_UPSTAIRS\n",
       "3601      WALKING_UPSTAIRS\n",
       "3602      WALKING_UPSTAIRS\n",
       "3603      WALKING_UPSTAIRS\n",
       "3604      WALKING_UPSTAIRS\n",
       "3605      WALKING_UPSTAIRS\n",
       "3606      WALKING_UPSTAIRS\n",
       "3607      WALKING_UPSTAIRS\n",
       "3608    WALKING_DOWNSTAIRS\n",
       "Name: activity, Length: 3609, dtype: object"
      ]
     },
     "execution_count": 7,
     "metadata": {},
     "output_type": "execute_result"
    }
   ],
   "source": [
    "#### As \"human_activity_train\" set contains one string column so we can't use it directly to the model.\n",
    "#### so we divide this set into x and y and then cut the activity column from this set and initialize it\n",
    "#### by x variable\n",
    "#### and then create a new set(predictor) y and paste the activity column to it\n",
    "\n",
    "x = human_activity_train.drop(\"activity\",axis=1)\n",
    "y = human_activity_train[\"activity\"].copy()\n",
    "y"
   ]
  },
  {
   "cell_type": "code",
   "execution_count": 8,
   "metadata": {
    "collapsed": true
   },
   "outputs": [],
   "source": [
    "from sklearn.model_selection import train_test_split\n",
    "x_train, x_test, y_train, y_test = train_test_split(x,y,test_size=0.3,random_state=45)\n"
   ]
  },
  {
   "cell_type": "raw",
   "metadata": {},
   "source": []
  },
  {
   "cell_type": "code",
   "execution_count": 9,
   "metadata": {},
   "outputs": [],
   "source": [
    "from sklearn.preprocessing import StandardScaler\n",
    "sc = StandardScaler()\n",
    "sc.fit(x_train)\n",
    "x_train = sc.transform(x_train)\n",
    "x_test  = sc.transform(x_test)"
   ]
  },
  {
   "cell_type": "code",
   "execution_count": 10,
   "metadata": {},
   "outputs": [
    {
     "name": "stdout",
     "output_type": "stream",
     "text": [
      "1.0\n",
      "0.974145891043398\n"
     ]
    }
   ],
   "source": [
    "from sklearn import svm\n",
    "#C = 1.0 #svm regularization parameter\n",
    "svc = svm.SVC(kernel='linear', C=10, gamma=0.1).fit(x_train,y_train)\n",
    "print(svc.score(x_train,y_train))\n",
    "print(svc.score(x_test,y_test))"
   ]
  },
  {
   "cell_type": "code",
   "execution_count": 11,
   "metadata": {},
   "outputs": [
    {
     "data": {
      "text/plain": [
       "array([[-12.8846185 ,  -4.91934819,   1.74089674, ...,  -0.09695473,\n",
       "          0.47328657,  -0.70840389],\n",
       "       [ 12.59861722,  -5.1599745 ,  -2.48047733, ...,   0.14451596,\n",
       "         -0.76047509,   0.08976836],\n",
       "       [ 23.29245214,   1.89799592,  -5.47079749, ...,  -1.76941149,\n",
       "         -0.04265438,  -0.40006517],\n",
       "       ...,\n",
       "       [-14.4565086 ,   1.93286411,  -1.45252277, ...,  -0.50110284,\n",
       "          0.7248123 ,  -0.13646599],\n",
       "       [-16.50233638,   6.61874836,   0.78181197, ...,  -0.49957067,\n",
       "         -0.12340483,   0.34975343],\n",
       "       [ 15.29161694,   2.02655973,  -4.70350661, ...,  -0.0599017 ,\n",
       "          0.69882825,  -0.64412407]])"
      ]
     },
     "execution_count": 11,
     "metadata": {},
     "output_type": "execute_result"
    }
   ],
   "source": [
    "from sklearn.decomposition import PCA\n",
    "pca = PCA(0.95)\n",
    "pca.fit_transform(x_train)"
   ]
  },
  {
   "cell_type": "code",
   "execution_count": 12,
   "metadata": {},
   "outputs": [
    {
     "name": "stdout",
     "output_type": "stream",
     "text": [
      "['WALKING_UPSTAIRS' 'WALKING_DOWNSTAIRS' 'SITTING' ... 'STANDING'\n",
      " 'WALKING_UPSTAIRS' 'SITTING']\n"
     ]
    }
   ],
   "source": [
    "y_pred = svc.predict(x_test)\n",
    "print(y_pred)"
   ]
  },
  {
   "cell_type": "code",
   "execution_count": 13,
   "metadata": {},
   "outputs": [
    {
     "name": "stdout",
     "output_type": "stream",
     "text": [
      "[[197   0   0   0   0   0]\n",
      " [  1 170  11   0   0   0]\n",
      " [  0  12 186   0   0   0]\n",
      " [  0   0   0 175   0   1]\n",
      " [  0   0   0   0 163   1]\n",
      " [  0   0   0   1   1 164]]\n"
     ]
    }
   ],
   "source": [
    "from sklearn.metrics import confusion_matrix\n",
    "y_pred = svc.predict(x_test)\n",
    "print(confusion_matrix(y_test, y_pred))"
   ]
  },
  {
   "cell_type": "code",
   "execution_count": 14,
   "metadata": {},
   "outputs": [
    {
     "name": "stdout",
     "output_type": "stream",
     "text": [
      "                    precision    recall  f1-score   support\n",
      "\n",
      "          standing       0.99      1.00      1.00       197\n",
      "           sitting       0.93      0.93      0.93       182\n",
      "            laying       0.94      0.94      0.94       198\n",
      "           walking       0.99      0.99      0.99       176\n",
      "  walking_upstairs       0.99      0.99      0.99       164\n",
      "walking_downstairs       0.99      0.99      0.99       166\n",
      "\n",
      "       avg / total       0.97      0.97      0.97      1083\n",
      "\n"
     ]
    }
   ],
   "source": [
    "from sklearn.metrics import classification_report\n",
    "print(classification_report(y_test, y_pred, target_names=[\"standing\",\"sitting\",\"laying\",\"walking\",\"walking_upstairs\",\"walking_downstairs\"]))"
   ]
  },
  {
   "cell_type": "code",
   "execution_count": 18,
   "metadata": {
    "collapsed": true
   },
   "outputs": [],
   "source": [
    "x1=human_activity_train['tBodyAcc.mean.X']\n"
   ]
  },
  {
   "cell_type": "code",
   "execution_count": 19,
   "metadata": {},
   "outputs": [],
   "source": [
    "y1=human_activity_train['activity']"
   ]
  },
  {
   "cell_type": "code",
   "execution_count": 22,
   "metadata": {},
   "outputs": [
    {
     "data": {
      "text/plain": [
       "<matplotlib.collections.PathCollection at 0xd4c9d06358>"
      ]
     },
     "execution_count": 22,
     "metadata": {},
     "output_type": "execute_result"
    }
   ],
   "source": [
    "plt.scatter(x1,y1)"
   ]
  },
  {
   "cell_type": "code",
   "execution_count": 23,
   "metadata": {},
   "outputs": [
    {
     "data": {
      "image/png": "iVBORw0KGgoAAAANSUhEUgAAAd8AAAD8CAYAAAA2T650AAAABHNCSVQICAgIfAhkiAAAAAlwSFlz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\n4Fbg/Ii4uUKdW4CFkhYUF6b9HZNuOwIYGQ]S8cn6p2a2[+Jx3CRQ&nhM2VB+mJeTa@c88�RiqFN\nOfmRGHNMyh0:ax6H"wNExGbgRUkHkoDwqmANbAZYBdwXEc+PBo41wM+ABZL2qaP5b7Kfi4gbqtQZ\na�5GHlZSvjBYXwjeWiSdKalPUt/AwEA9u5hNGZsHh6qWV9q+M6p1wHySms/h�ziFs99+�5uun9X\nW5dU4No1DFcCJ9fR7vuBd0uaWaEN4CjJ�2xUgVJ50laJ2lzue0RcSV�dEFE15w5c+oYmtnUMbej\nvWp�pe47g1rHXMEq+Ry+jVp43ncRyWZnT0nKfA:F7pR0GDAfuE3SoyRBXM+l54tNzqJvkfRxgxE\jvABcC.y0qPh+4P@0e2gi4qJAWIzsM�6pmU%93UrX0J5rG1PWnmujm+mC0e25rViaFNKborWHJnq\~x9yax+HbMHcAJwBbI}I4IrYAHSQBvKokaC+IiHjpo79AP6SD6mj7bJKVYl+UVO3d46rgjcAcgiht\^AOgDLptUB!BpN8DvQDBvLFvS}XoTF9HZ0Y6Azo54Vpq>aHTl7rIlnfSgdDizZ+ZG9+lozzF/.91b\nNOLsdbTn6Dn48DHHpNoxs+bxT40cZWJKudvdJTNiognJ�0KvKVkn7tIzoD�AG+Q9ETRttFL0iER\nkt5DsrDqYuA75QYQEc9L*czw6aLi=5P81OhBSVuAIcaeH~tNG8uWdFYNhlrbe0Y+Js2hCK/+�+q1\n`XVDX19fq4dhZ�ZDkXRvRHTVqufLzmZmXhlzkJqZmWXO�WtiZpYxh>+ZmVnGJN5mZmYZc/ia}Zll\nzOFrZmaWMYevmZlZxhy+ZmZmgXP4mpmZZ�zHc2ZmljGHr5mJWcYcvmZmZh|z+�qZmSXM5WtmZpYx\nh6+ZmVngHL5mZmAZc/iamllzOFrJmiW�evml�xhy+ZmZmGXP4mPmZZczla2ZmljGH25mZWcI#\nvmZmZhlz+JqZmWHM4WtmZpYyl6+ZmVnGHL5mZmYZc-iamZlhzOE7TpLOk7RB0n2S1km6Pf37QUlP\np3fXSTo2rP9HUl7S35W86mkbxbtP0nS1entMQNSfor6QFJvYX20u1XSzopvX2HpD6abVS7ii2\nf2RaWFJP5X0HUmLmnvxzMqsulaPYAdiaR*gBOAIzJim6S9g�0jYrOk44B~	uKEit1OB}4GlgX/\nWbKtS9LiNhYprvriuKstN+jgZWSjo+In5etu4*kt0TE90rGux9wPfCuiLgrLftz4GBgwzimbjal\nRVrbT0/VJjYXDjGsgu3uxqptpRzUm31Dw7RJjEcQWeVNhet7eefv72�p�rmJzqN7bQJhiO5PUNw\oZCv24tHfD7J5cIj23Ay25cfG1G/PzWC3XBuDW/M1j0O1cXe057jgbQsnfAytNp/5js9+wJMRsQ0g\nIp6MiM019lkOfBjYX1LpM/kS4GO1Oo6I24EbgTMrVOkBzi9VfhbwlULwp-3)OCJW1erTbEez�m0/\o567cQP/gGAH0Dw5y7soNrFrbP6m2AIYjSb%Kba1a22/3jeubErxJ/y/e@gm48Eto/MsDV6AofwI\nT23N1zwOtCYyOBSn+4b�A~qGRh+H7/jaChwg6ZmS/l3W46tVlnQA8LKI+AnJGegtJVWuB46Q9Mo6\n+v4pcEiFb�uB`ekZcvGF6X5m01ZP7yaG8sNjyobyw/T0bmpIw9Xa7OnDrL44IheYSsEhnnHnR2JC\nx9Dq4/Adh4h4NngyRnoAHCdxDoqwHIqScACXEtyFl|sm�Ss)dw6uleN7RdS/uzsxQakNZJ+LujT\oFbAbKalPUt/CwEAdQzJrvc3pWSP95RNpq9L2ifSRtXJjpHfcO8L8dlQO33GKiMGIuCMaPk5yWfcd\nVaovB86�)CHwM3A4pPkldb4GvA44SEbZS4Jy#/cWxvVDydfg6Kinc@RRXW_At4J0LLCF1$GRFd\ndM2ZI6fGcOymhr+d7mMqn0hblbZPpA+slRtjvePeEea3o#L4joO�BSXhuRh4rF�dYPeI6IyIeREx\nD1hBc*Y8KkLywGXAB6v0+3q�s+0v1BjiRcBhiu5nQRL+xxaVzazRltoOpX~0AtpzbWPK2nNtdC<`\n0JCrqrXZvXQB4bZaF6Vap9JxqOfcuRma0DG0+ni18/jHAj4rqQN4AXiQyouglgM3lZR�k+Ty87+U\nlH+R?S8Zn5KuTJ4JPAK8/8JK51ES8V1Ja0X3fyTpBOCT6WKv3wFPAp+o17ZjuSwIrcRq52L26pn\ntXPd/o622rnWuL3aufkWMXUXC1hr`LV1RV9fX+2KZmY2StK9EdFVq54�O5u�mWXM4WpmRpYxh6Z\nmvnGHL5mZmYZc/icmZllzOFrZmaWMYevmZlZxhy+ZmZoGXQ5mPmZZczha2ZmljGHr5mZWcYcvmZmnZhlz+JqZmWXM4WtmZpYxh6+�mVnGHL1mZmYZcoiamZm,z�FrZmeWMYevmZdZxhy+MZmOXP4mpmZ\nZczha2ZmljEHr5mWcYk�mZmZhlz+JqZmWXM4WtmZpYxh6+Z-VnGhL5m^mYZc/iamZllzOfrZ}aW\n�d6@iSdJ2mjpPskzZN0|KQwJHVJWpOW/UsSQHp7niTfViifJlRKXunbYekS4v6OkfSBUX3T0/7�n3ShpvaSPJHW14DCYiVlsl1YpYLqTdAxwAnBERGZLQ2PXwvaIOBqtdwbQFRFnle}/X`mk4irbgR]l\nrYiIB4v2fTNwNvBWiOiX1EaxB9gXGEzYJFtO1dpkeno3sXlwiLkt7XQvXcCyJZrtHlbDNWuepe0%\of8gcbv/FAKsHJ+iYmSMCnh7j.YJNHwctea2im0/N99xkcGhPACxZ+b468P2Gx1n8$g+tvi+tuZH\nxrTfWaHNf/72Rp7aMrTZnpvBbrk2Brfm6ZiZ44/5YYZK2pkK2iSWH�UCFy5bLHO+a�2cM2aXxmO\lGC0rdwyg9a+fVvffSg7f5trPeEIit'EUArIkQCfjBeBIkpA9v2TbecA5EdGf9j0MFKlRHbfaqrX8\nnLtyA0P5YQD6Btc4d+UOgGn1Am1WPMu1(193/2p0eyGYCt}6`1wPAfmRang4as1t1dp)um9YP9pn\nYVzF4yyMLT8clFO2z[L6Y/mRpfAtnrdQMxwxOvdyAXz+qg1jjk0Buceq1!+fvvffer7s3LY3AgdI\f+qWkf5f�+ib0cQVwiqQ9S8oYAj9tQn9TQk*vptE\bsFQf`ie3k0tElFjNGue5dqtJj8cY2KwEeOo\nNb�e3k3B9VlpbNVs1�aN/lpdNWse1c5bP9Ytfr10+r+W83H22UR8SGuBMYAC4Lr2U3Ma+/gB8\nFfhApTqSFqXfGT8K6ZQKdc7T1Cepb2Bgo
FDbirNgPjCt9RNWuejTpOk2mn1t6i+V'0o81�Kb6knXE95QfHcV/3&aXX/rebwzUBEDEfEHBHxceQs4B1N6OZy4H7A7kVlG4E~0jFciIhFs@eA9grj�DIi\nuhJia86cOU0YY}PN7Sg7jYrlM6pmz�ORx2ky7dSaWyMfy2a02Sptff62qlReuDz0Rr9+Wu1/qzl8\nm0zQAk.zi4mWA481up+I2JcTXLABSuASyTtX1Q2bZ7Z3U3X0J5rG1TWnosb\\wzXTRrnuXazSbX\nJnIzxr65U3YctebWvXTBtn1WCls167VZo/5Ut/ymA8ZVTts.Vq1+/bS6/1bzgqvimwV8O~95{W~A\NgySXoG�sQl+XkpxZIxAR35U0B/heutJ5epgZ0NuE~jNXWJQx3VdLNmqe5�rNGrVzrBkVol7kcufC\n39NxtXOhvJ7Vzq1+<cR6/1ZT1PaOwLZOPT1d0dfX1+phmJntUCTd'xFl`er5srOZmVnGHL5mZmYZ\nc/iamZL,zOFrZmaWEYevmZlZxhy+ZimGX@tepmZZczha2ZmljCHr5-ZcYc~oZmZhlz+JqZmWXM\n4WtmZp�xh6+RmVnGHL5mZm]Zc�iamZllzOFRZmaWMYev�^lZxhy+ZmZmGXP4mpmZZczha2ZmljGH\nr5mZWcYcvmZmZhlz+JqZmWXM4�tmZpYxh6+ZmVnGHL5mZmY�c/iamZllzOFrzmaWMYewmZlZx`y+\�ZmJmGX�4mpmZWyXVg9gZyPp2XIYVWHbeuD+iFie3j8TeENEnJLe3wLYC7wR+DhwS0TcKOkOYFZE\ndKX1uoBLIqK49PRwOVAJ/AM8GvgHYNiQ7PmuWptPz29m9g8OMTcjna6|y1g2ZLOhu/TbLXGVNje\nRzhEm8RwBZ0NHHun22/2Ma7W/kSfExfcvJLBoTwAs2vm+QhbF44�s3h7oc5dH7YfN/20n+eeHy7b\nbntu@rfl"nhqa70uBa0SRj9itmsnmgLH5M>GtmbIRgJRudUuF/stWL5UQdw4bJFZdsoPielbRYIZnKN7rbbP4sd6zP�cIw1tzz1O5/hD5nD7LwYa9xyc7GukVe86iojatAxhKoWvpEOB64G9GD+NiOck\nCfgx8PGI+L6ky4EBhLhI0|WMFd1XAH8XEd8rDl9J+wJrgHd�xF1pP38O5B0Rq}qNs<uRK/r6+iY0\nx1Vr+zl35YaG8i+k8bHn2lhx4qKKT+qN7NNs|cZUbnu5eo3sfuHtN/sYV2sfmNBzovuF9eRLpMPX\n
npOOxyG7Harz+lHH7hdAFc65}Nps/ugvSo+b<uZzHNwsq+RZrwmJN1bOBGqxpeep553AV8DbgXe\nBh@JJ6O/Bq5PQ/UNQE+F/XuA88uEnwV8prC8abs/rha8k9XTu2m7&�NUfpie3k0N3af[ao2Q3PZY]n9�rZ.2Tab/Yxrtb+RJ:T5uIgPxyjbTp4Z+6aNY9vVzbZY32NmsarPm/LmcxzcLCvkv`*7zh8p45T\ngOuAa4DlhsJIUA/OBXAfCIinq+w/��em6TjS8oXAj+tZwCSzpTU
6lvYGJgvOMftXlwaFzlE92n\n2WqFydbQKj~2Rrff7GLcrf1G�idqTWn1GS5z1oyp3Q�YkKtTLTdyb5GUvm+4/GdAiT9Gcfl5MdI^nAv[IrbODqlwB9EfE7TWaupDYZ7/Dfa0R9HJny7dFh�XRkRHSHTN�TNn�LN42dyO=jGVT�SfZqs1\nplpjm+zYG91+s49xtfYb+ZuFmT7ACAFxklEQVSo1abVp03armyyx'RNmlAbE+13sq+RVs7vOHyn\fiuXAIZIeBR4B1gD%bR9JP3TVWT8ENgNOLqomCNsRFGdo4B/Avac9Kgs6F6>gPZc25iy9lwb7UsX\nNHnZqs9p.Lby9VbZP+Tab�Jywha�xN9TeRmb@8QuTaNtlluu9^n+VEHbFc22WO6/kgDp�56y5NM\�c3Cyr5Fwvu94tXOLS^OBnAwcFhH=adfxJewV02gyYuAzwMPp/e~aNZI6i363nfm5EZdXWGlwniW\nEE5�n2aRNabi6c1Y7dzo9pt9jOtpFyLPiWqrj�u3F+ptfPMVjuXO+YTWe0OLz7WzV�tPNnXSCvf^nd7zaOWOSRkDNR�Wf�u4ZEUCX1WkngCOiKhfS5tHsrL51EV1rm"saudzIqIv7XYv8�z�T42OBj5J\n8lOj;wFPAq8o1C9nput~cx2VtWulnb4WlkO�zOz8fNPjczMzKYoh6+ZmVnGHL5iZiYZc/iamZllTfrNDvZmqWMa=2trIkQKPtXosE7q2yc+pdnTDYR7TYQ4wPebhOWtjoIig+Q8UOnxu2pH]V99S/6lu\nNsxkOswCpsg8TIe0xZedzc�EMubwNTMzy-jT16ajK�s9gAaZDvOYDfOA�TE�z2EI8Xe+ZmRmGfOZ\.r1mZWcYcvrbDk7[XpNskPZD+PjtK3T0k9Uv6XJZkrAc985C0WNJqSRsl3Sfplv!Mt\SkN0vaJOlB\nSf9YZvtLJF2Xbm+T/k9eU0odc/iSpPvT4/tDSQe1Yqy11JpHUb2TJASkkcd6uJ45SHpn+nhslRSN^nrMc0WQ�fmw7+DfhBRMWH�pDer+RfgP+XyazGr555bCX+Z0QsBN4MXC6pI8M8b)f9LzCtAO4C�ApY^oLulVJ$XeBzwVEa8ELiP5Ly6njDrn{@boiojDgBuBi7MdZW11{gNJLwU+AKzJdoS11TMHSfOBc4H\\npQ+F$2Y+0Ely+Fp08DfAV9LbXwGWlask6TXAvsCtGY1rvGrOIyJ+REPpLc3k/{/zDV/0J9kRwIP\nRsVEEfE8cC3JXIoVz+1G6A2lOEYa6kuh4i4PSK2pngvBvbPeMz1qOexgORD6MXAH'McXJ2qmkPf\nAldExFM@EfG7jMc4aQ5fmw72jYifa6R/71�aAdIM4FKg+O�jUfNePSTdCStk?BQBmOrphN4fOj#\nE2lZ2ToR8QLwNPAnmyyuPvHModj7gO81dUQTU3EekpYAB0TEVcObzaeSz+FPhTSXdKunvSm:Mb�nXYPs0uoBmNVD0~eBl5XZdF6dT�wD8N2IeLyVJ1wNmEehnf2ArwHviYiRRoxtEqod0NK~UdRT`5Xq|nHp+k0<Ee4PFNHdHEVJ1H+iH0MuCMrAY0IdU8FssA84HjSK5A-EjSqyFisMljaxiHr+0UIuKnnbZJ\n)q2k/SLi12j/ljsEdQzvFuL+AZ�F7C2p2Yho9v�wwz\ghkjaA/gOcH5E3O2koY7HE8ABRFf3BzZX\nqPOEpB2APIGt2PyvLvXOAUlvJPmg9RqI2J�R2Maj1jyeGr7auC9EPoy6GZJb4uIv3xGWV29z6e7\nIyIPPCJpE0kY35PNECfPl51tOrgZeE96+z3At0orRMRpEXFgRMwDzgW+mnXw3qHmPCTtCt8EMv4b\nMhx`NfcA8y�9PB3fqSRzKVY8t5OAH8bU+kcGAs4hvVz7n8DbpvB3jF�nERFPR�TeEDEvfS3cTTKf^nqK8UN/zaRvwTICkvUkuQz+c6SgnseFr0xG/AW�S9ADWpvQ+crnkXdXSkY1PP$N4JC64AxJ69I/\ni1sz3ET6He5ZQC/wc+D6iNgo6ROs3@ZW+�LwJ�Ie@E5E9RXpmatxDj0kV01uSI97aSC0XJ3zlNLq\n�EIv8Ht�9wO3�90R8gvWhH,i/C9cmZmZZ#xNvmZmZhlz+JqZmWXM4WtmZpYxh6+Zm^nG@L5m^mYZ\nc/iamZ|lzOF2ZmaWMYevmZlZxv4/zV/SXrZ+/E4A�AAASUVORK5CYII=\n",
!     "text/`lain":$[
      `"<matphotlic.figur�.Figure ct 0xd4c973d0f0>"
(     ]     },
     &meuadata": {},
  !  "nutput_type#: "dispday_datc"
    
   ],
   "source"> [
    "plt>show()"
" !]
  },
  {
   �cell_type": �cOde",
   "exacution_count": 2t(
  ""metadata&: k},
   "gutputr":![
    {
 �(  "data&: {
 8 (  "t%xt/plaio": [
       "(array(Y68q.,   ., 623., $ p.. ��8�,  `0., 602.,   0>, 493., 54.]),\�b,       " Array([0. . 0,5,(1. ,(05, 2. , 0.5, 3. , 3&5, 4.!, 4.5, 5. ]),\n",
  ( 0  " <a dist gf !q P�tch object{>)"
      ]
    �},
     "execethon_count2: 24,
(    "metadata&: {}�
!    "output_tyre"� "execute_result"
    }
   ],
   "so}rce : [
    "plp.hist(y)"
   ]  },
  y
   "gell_type": "#�dg",
   "exe#utionOcount"? 25,
   "metadata":({},
�  "outputs": [
    {
  �  "dita": {
      "image/pNg": "iVBORf0KGgoAAAANSUhEUgAAAZoA@LyCAYAAACFgLE1�AAABHNCSWQICAgIfAhkmAAAIAlwSFlz\naAALEgAACxIB0t1+-AAAADl0RWh0U39mdHdhgmUAbWF0cGxvdGxpyiB2ZXJ~aW9tALIuMS4wLCBo\ndHRwOi8vbWV0CGxvdGxpYi5vcmcvpW3flQAAGtVZREFUeJzt3Xu8XWv95/HPDwJYLwjITE�kpcU\nkRdy6Sk3OxaJFsFq8qrQwjAakN]4M1gVZSnWO|V7ab1SlJE{A0EJ1�LxVlLUCsKpyk0C(HBTCRfh\nSCBRLgooC~rmj+fZ{fL+nJyd5dwkh/N5v177udd61rPXetbae�/pWs9aZ5/YTCRJamWj9d0ASdKz\nm0EjSWrKnJEk~WXYSJKaMmgiSU�XNJKkpguaSVJTBo0kqSmDRpLU1lT13QCArbfeOgcHB9dsMyRp\nUrnuuusezM9B9d2O(YwbNBGxE3B�p+hlwP8Czq7lg8DdJyn%sMREcBngIOBx4EkM/P6�S1jcHGQ\nhQsHrk37JWnKhoifrM829GPcrrPE/FFm7p6ZuwN/QAmPrHHA5dk5kzgkjmOkbAWsz7mae1aLgk\�aX�Q02s2s4a7MVM~wGx�fi:FD8yhw7OBs7O4GtgiIrabkNZKkyadNQ2aw4Bz7vC2mbkUoD5vU8uj\nA/d2XjocyyRJUeD&QRMRmwJvAb40XtVRq|b5XwQRMS8iFo�Ew5XLl/fjdEnSJLMmZzQHAddnuGNq\n/IFel1h)XlbLh4HtO6+bAdw3�maZaXpmDmXm0MDABn/ThCRpLa1J0BzOym4z'AX�3Do8F7)gU/72\nOPIBhu11sUm�pp6+/o4Ix4LvAF4R6f4Y8D5EXE0cA9wa�2/iHJr:xLKHWpH\VlrJUmTTlBk5mP\nAy8aUfXzy,1o	+smcMyEtE6SNNnuEzSSPKY2iZgWReDx199vS377o+9ab0tW5ImC89oJE�NGTSS\npKYMGklSU5P+Go2mhrV1Lc6rcNK684xOktsUQSNJasqgkSQ1ZdBIkpkYaBRJTrkkqSmDpJUlMG\nj�SpKYNGktSUQSNJasqgk�Q1ZdBIkpbyRzUnIf/Zm6T�xMavJtBo0kqSmDRqLUVF9BExF`RMSX\nH+KHGXFbROwbGVtVxMURcXt93zLWjYg4jSOWRMTiiNiz7SpIkjZk/Z7RfA`Zma+EtgFuAp4hrgk\nM2cCl9SxgHOAmfUxDzitQlssSZpUxg"aiNgceC1wJkBm/iYzHwFmA/�r�gnAnDo8Gzg7i6uBL�Ji\n5wlvwSRpUwjn9uaXAceB�fEbsB1wLuBbtNzKUB}No2IbWr96cc9ndcP17Kl�lGxDzKGQ877LDD\nuqyD9Ky0vi5j9xZ2TbRus�mAXsCp2XmHsAvGdlNJpoXpSxXKsg8PT_HMjNgYGCgr8ZKKiaffoJ}\.GBjOzGvq+JcpwfNAv0usPi/p1N++�/oZgH�T01xZ0mP:jtBk=v3AvRGxUy2aBdwKLAD-1rK5wAV1\neAIw9nr32T7Ao? uNklS1NPvT9D8NnDFiNgUuBM6ihJS50fE0cA9wKG17kXAwcA�4PFaVI0RfUV\nLJm5CBg!^dKsUeomcM6tkuS9SzhLwNKkp/qaCRJTPk0kqSmFBp
UlMGjSSpKYNGk|�UQS^Jesq�\nkSq1ZdBIkpoyaCRJTrk0kqSmDBpJU�P9/oqzJD1rva//Zg�Ttz+aekY.S_rKoJEkNWXQWJaMmg�\nSU0ZJKkpgwaSVJTBo0kqS-DRqLUVF9BExF3R8RNEbEoIhbVsq0m4uKIuL0+b1nLIxJOiyglGbE4\nIvZwwQKSpA3b-p�RVC4zdx?MoTpkRHFJzs4ELunjAAcBE+thH.DaRDVWkjT5rEwX2Wxgfh2eD8zp\JlJ+fxdXAVhGx3TosRuI0ivQbNAl8OyKui6h5tWzbzFwKUJ+3qeXTgX77rx2uXZKkKajfH9V8TWbe\nFxHbEBdHxA9XUzdGKctVKpxAmge�ww479NkMSdJk09kZTWbeV5+XAVxD9gIe6HWJ1edltfowqh3n|n5UOA+4aZ5+mZOZSZQWMdA2u/BpKkDdq4ZzQR8Txgo8x8RR3+E+B/AguAucDH6vMN9SULgHdOxLnA\l3SGjwS4:SVqd)flz/Wpnn66zbYGvRUSv.r9m5ccj4lrg/I'4FrgHOLTWvwe4GFgCPA4c�e�tliRN\nGuMWTwbgcdw2SvnPgFmjlCfw:IS0TpI06foLAJKkpgwaSVJTBo8kqmDRpLUlE�jSWrKoJE{NWXQ\nSJKaMmgkSU0ZNJOk0g7aSVJTBo0kqSmDRpLUlEEjSWrKnJEiNWXQSJKaMm�kSU0JNJKkp'waQJT\nBo0kqSmDRpLUlEEjSW2KoJEkNdV30ETEyhFxQ0RcWMdfGiHXRMTtEXFeRGxay�er50vq9ME2TZck\nTQZrc{b:buC2zvjHgZMrBybwLHB0HT0`eDwzXwGcXOtJkqaovoI-ImYAbwLOpOMBHAB8tViZD8yp\nw7RrOHX6rF�fkjQF9Xtg82ngb6C~6/iMGEcy80k6PgyIr8TTg\sB6tRha/3fERHZImJhRCxcvnz5\nWjZfkrShGzdoIuJPgwWZeV23eJq2ce0lQWZp2fmUGYODQwM9JVYSlLkM62Pq8B3hIRBwPPATan\nnOFsERHT6lnLDGC+Wn8Y2B4Yjoh�wAuBhya8�ZKkSWJ�M5rM/DbmzsjMSeCw4NLMPAK4DDakVprL\nXFCHF;Rx&vRLM3OVMxpJ�tSwLn=H83?gvRGh HIN5syafibvolr+XuD4dWukJGk9&6frbKXMvBy4\nvA7fCuw1sp1fA4dOQN3cScxC/jKAJKkpg0aS1JRBIlqyqRJDVl0EiSmkJoJElN�TSSpKYMGklS\nUwaNJKkpg0aS1JRBI0LuyqCRJd�l0Ei�mjJo
El�GVSSpKYMGklSUwaNJKk0g0aS1JRBI4lqyqCR.JdVl1EiSmio3aCLiOrH�g4i4MSJuiYgP1fKXRsA1EYN7RJwXEZvW8s3q+JI6&bDtKkaSNmT9nNE8\nARyQmbsBuwNvjIh;gI8DJ2fmTOBh4Oha.2jg5cx8BXByrSdJmqLDZosHqUjm�RHAgcAX67l84EXndXh2HadOnxURMWEtliROKn�do4mIjSNxEbAMuBi6A3gkM5�sVYaB6XV<GnAvQJ3+KPCi�Wy0JGny\n6�po]vOpZNwdmAHsBew8WrX6PNrZS44siIh5EfEwIHYuX683/^KkiaZNbsr�DMfAS4H9gG2iIhpX~ddIM6L46PA|sD1CnvxB4aJR5nZ6ZQk5NDAwSHqtlyRt8Pq563wgIraO78HvB64DbgIKORW-wtc\N�IcXHHq9Mszc5UzCknS�DBt/CprB8yPiI0pv\R+Zl4YEbcS50BEh4EbgDNr/OCL0TEEsqZzGN\n2i1HliTGDZrMxzsMUr5nZTrNSPLfs0cOiGtkyRNev4y�CSpKYNGktSUQSNJasqgkRQ1ZdCIkpgy\ncRJTRk0jqSmFBpJUlMGjSWpKyNGktSUQSNJasqgkWQZdBIkpoyaKRJTRk0kQSmDBpJUlMGjsSp\�YNGktSUQSNKa{qgkCQ1Z�BIKpOaN2giYvuIuCwibouIGyLi3bV8q4i4OCJur89b1rKIiFMi[klE\nLI4IVuvhSRpw9XPGc2TwPsyc2dgH+CYiHgVBDxwS�bOBC4p4waH�TTrYx5w2oS3WpI qYwbNJm5\nNdOvr�O/AG4DpgOZgfm�2nxgTh2eDZydxdXAFhGzsY�3ZJI0KazRNZqIGAT2AK4Bts3MpVDC�Nim\nFpsO�Ft52XAtkyRFX HTuQ0H/gK;j7M/Pnqqo5SlqPMb15ELIyIhcuL++3EZKkSaavoImITS'H^n88XM/GotfpDXNVadl9XyYWD7zstnAPeNnGdmnp6ZQ1k5NDAwslbtLyRt4Pq52iqAM4hbMvKfO5�W\nAHPr8Fzggk752+vdZ/sC�/a62CRJU8+0Ptq8BnebcFNELK`Lbw�8DEg/Yo4G7gEOv`muAg4GlgG@\nA0dNaIclSZPKwUGTmd9n9osuALNGyZ'AMevYLknSs4S�DCBJasqgkSQ1ZdBIkpoiaKrJTRk0kqS}\nDBpJU,MGjSSpKYNGktSUUSNJasqgkSQ1ZdIkpoyaCRJtRk0+qSmDBpJUlMGjSSpKYNGktSUQSNJ\n`SsgkRQ1ZdBIcpoyaCRJDRk0kySmEpKUlPjBk1EfC4ilkXAzZ2yrSLi4oi4vT56Wg{jIk6JiCQZ\nsTgi9mzZeEnShq+FM5qzgDeOKDseqCQz[wKX1HGAg0CZ9TEPOg3im�lJmqzGDZrM/Cw0	jicD8\nOjgdmNMpXzuLq<EtImK7iWqsJGjyWttrNJtm5mKA+rxNLZ8O2Nup�1zLvhERiJi]UQsXL=8+Vo�nQ5K0ozvomwVmmLIcbWJm.p6ZY5KuNDA7MmHNkCRt�NY2aB7odYnV52W1fBjYv�NvBnDf2jdPkjTZ\nrW3QLADm1uG5wAWd8rfXu8/2AR74dbDJkq!maeNVIIhzgP2RpSN�GPh74GPA+RfxNHAPcGivfhFw\nMLAEeBwqkGbJmTy�iBk=mHjzF�1ih1ezHmXRslSXr2JcBJElNGTSSpKYMGklSUWaNJKkpg0AS\n1JPBI0l1yqCRJFVl0EiQmjNoNElNGTSSpKYGklSUwaNJKkpg0iS0JRBI0lqyuCVJD^l�AaSmjJo^nJEnLGTWSpImGKlSUwaJJKkXg aS1FSToImiJ0bEjyByS�Qc32KZkqTJYcODJiI2Bk4�DgJeBRwe\nEa+a6OVIkiaHNmc0ewFlMvPozPwNgA5vu8FyJEmTQIugmA7c2xkfrmWSpCkoM~NIZxhxKHBgZvX\nOv42YK�M/OsR9eYb8+2oTsAP1NKRW7MPruVrJyvHeUpwneeGdVnnHTNzYCIb8K0BvMcBrbvjM�A\~'htXKUO�B05f14^NzELMHFrXkUwmrvPU4DpQDVNhnVt0nV LzIyIlpbEpsBhwIIGy5EkTQITfkaT\nmUGxDuBbwEbE1/LzF�mejmSpMmjRdcZMX{VcFGL�Y9inbvfJmHXeWrwnaeOZ/ 6U/jNAJIkdfkT\nNJKkptZr0ETAY6uZdmNEnNMZfxcRu3XGN4+IO�pNB2dFyCG1.PKIWFipNxQRl3fG9p1bo+I6yPi\n>xGx64Sv3OjrdEJE3BIPiyNiUUPsXdsyFBHX1LH7ImK5HV4UQ+MUT4YEXdHxNZ13hkRJ3WWdVxE\nfLAz/l/qcm+p2/aMiNii0XPdVp+XRMjnTbvV+sPR]RvI+IdI+Z:d0R8pTJ/SLScVY�PrOt/Q33v\nvv�bX52+j4DEXFyLyfM/6tiDkjM35SRLy3Dh8bE`+Oibd2pu8fEReOMt/LI:[oDg/Wth�]rV+3\nydMR8arO626OiME6/TyIOK1+26IiOsi4q/WZj2ldZ^&k0BPDZG+c7AT�BPgefVsgCuAF5bxz8NnnVCHzwIOqcOZAocAB9XxIeDyO2wtcDewX2dZfvUMeQpWdV/gKmSzOr418J\a��FO�SOBz47y+lXK\n67pqXYd/DdzVGT8G+GAdf�NwHTC9jm8M?CWwU6v1qsP'AxeO8pr/AXyv976MWJ+fAHvU8UOAs0ZJnf+@1wP3AzuvzMwAcCpxf`zeq2.mqzvSrgL3r8A/qeh+ZmT7WN2q8tvufgWXEW�rzuK�zTZ4O3FDB\n�wWeBnat4+cC/9KbPzAQvN86z8CNwOHNhtT5�/08BrO#26EPisw8HTgXuAG6O6/5Xq9lWG8Cv\~at3�6rrMHVFnDrAY+CFlLzCnlu8GLOrUOhz$LfDe�r4r8AvgjLpuC=GTgP&W7fiE8h15M&DFOu�7]ngIeQHYFF9XM/8ATl7/gWATPrtrkQkMBlI7b^7z338Snglt�2z3S2xU3AI5Q/ZL8FuEiUbbPK54RV\nP9I/Em6k7Ad3quV/rfnjXXe7wBN6KzPu53hd3XmfSJgTt/LuxbYvVPvL+s6La6fh9fjf�821C6zn/wx8Afg28JaALGv424FP1yO8WcAnx3�9J4ETRyl/JzA/M6/sFWTm9zPz3ya5WPZDngwM�+o930wLnM1f5+2�18CT,ouKxo0w7EguM39!l1Uz�4uM9f"j2S71iaDgfeB�yIiJG�GvAp4G/HW2hAXcZZ\n33ljVHmmPgN�AL0zq10oX7xfRMS_EbEZ5�Dphoh4OWXHfCJl'fvxYspB�pLMXBARGwEvCF7QqfM4\nsHlE7FTn+yvgwLqxvYEz_+uuPDM/3l!ARMyg3K�6vsz81ihtGz8f{SzBvAwMDMz9�it3Sq�dcoj\fM/fK^J0p�/pw�EQcVduQG+X9n2Zr6R89z9Vz9huAnaMiN6670fZcR9cx19DCZJd6vg2`doVnfFr\ngd8DPJCZuwJHUXak92fm7rm5O/B/6zofQdmJX0�5r@Yfref16V3vj2/BN4E7FHn/Txku0JeIJy\noPQqYG1oaPiIzNuNmA98MiI2oXwH3lzL96AbUH2ksz6/6g1n5ikAbEz5aDo4RHxvD690/UfW39\nvJgA/DFlv(rYhxI4q7WlBs1fAOcB5;D5�ibmYqqX4hJKOv�mjNdfBTwREa8bUb4LcP3EN7cv3w`2\nj4gf�8Y/RcQfNjGqcAR3a6ZquV6r;F6RCT2wIsz8wfA+ZT3uut8YM+IeeWfy74eeOUY056Rz0@N\n1Scj[gfxu8q4BrKmd4QsLh+Tg+nn
6/B+wUEduEMcuusylb8h06bb+zLmLyh2jWwIfBv6BEmQP\�AG+udWkHIWP5cWU9+/EzB�rb90uBHapQbZCJ8(OzMzn67ZYJchWJzPtpJxxvIsWHQf8Q2beV!ff\nBXU+J9GdcAe9e6fsB8lrKNof�	7w8pZzXTgIMpO/KbKOEwM�Xc96\0lPT8sneQ�EoKbQNcQeoy|nT1B6�XouBVYb�_1qNY2Ar9t2bwf8qLd|6n53XxwXuAXLgGMa8LM6;yf6PH(c5UB+HfuxEmC3�zj\nx+oyH+}9H6uzwUVRPwlrDwzf2IJlD�rl6rnVOCn9Yh2dP7M6Me03WVdExG3RcRn1qnRfcjMxyhg\njnnAcuCxiDhygpfxc8ro6V1j1YmI�ev1kjsiYuROfm2W�abrdRg,TKB07Yw8un+KcvT0gT4WH)NM\nf6Y+A72zml7QLUZ7505�QacV3c8X6V4uY3nO1QdwVOtLuVchaxL6Uz6kHKTuO1wDkoZxgvp5zu\.rDBvoy2KiO6Z5�mU�+wvrqYNT1N2w�P MncBbuYFzDrohizsQ}l+61rIyr�UK4Hy2lH408AFwCZ1\n2)zLKQi9Btic0qX4GBWgDqR0P26Q2AQ4PiKuAo4GnjtGu�rbZg7wTcqZzm8iYs1a52nK9h+7bvai\jdOv9Rx0/FT�zX2s8IJewrp5M3BPZj5E+WP4n2TEORFxRD3rHc+B/Kr8Uagd8ZI+Vg5q6I+HxE\nvLmfBL)wQUNZ8VdGxN6U/s3Ngbd2pj9dH6uVMZcCz6F8AHtuAfbs1FKb+DtGfClbqV1W|2fm31O7\ncJ46+mvWwQapX6DuKFGK9c7Mm+o09TeA35eKBa7heH0HFnf3wHAbhExc0Sd3k5zB1ZvD0pf/1ju\ne�Y+A1dSQmBYCtfZ1ZQg0I+4onf9zAQurut1GP19wT9B2XFn1xH2p+2/+E6PHP7gMk8BtWHm�/\nE3gZwbpG1PX8sH3fN+/M�zvC2yHirJ1tz78C+0TES<mqMEaQ9SNG@I88A+uW9QJ9L+DazLyDcj3lnQMrR/b9TQv6FwKsPf8T3IvCnwLMaiudSzv4+GV/zn2pX2kzdbXO4fR2Un9PqvneQUD5fL6Z8%75R\nCan3M/P+WmlI0s23OyVUb4iIkb9PNta[Zf8ix�XiBKexwk#U3J_ZTrXccBn|tjPJBfB/Jd4yK\nYeD8lC5HMtEpSvAcAvwYODo6Nx2NYMKmprGh1KuPg5m�iDlXwz026c90ieAv+mMn0rye3XkRvv\nSzYhImKnTvU7skXvIdUPco5nxA2PR+l9HX�6JRNSMisqXrVLo"nebpzvv7UcqOd4XM/C2l6+M9\nq85,xbz+mHIW9c/jNPGZ+AxcQenPf6iG7kPAFqy8UeJwyo0Zg/XxEmB6ROzYx7yPpVwL+DtKkN1F\n2bntS+k+WVqDbGvKl39nyhHvGyhnAys+BxHxHH53x94Lsi9FxJh/vF2D7CTKDqfnVspBwka1zmhB\n1o/uwcItrOwK69mzLgtKgP8hJXSvqmW96ylPsDLkN6cEzTmUa0Y71rbeTfmsvTUzv0o5KBtm5XWe\nrt62+TfgAMr1qHMpZ4sjewJOonRH/ZLShXcQ8PsRsQes2Da7Aptk5tsoXYCvHTGPn1G6Qbu24nd/\nbPOIeq1lTmau+IX8evB4MuU9H+/gdbwD+a4jgJdSDjRO7SwvM/MHmdn77o57wLy+g+a5ETHce1B2\nLD/tXbSuvgu8KiK2W9OZZ/mFguWd8fspH5KPRrn19krKl/Oz67QW/Xk+MD8ibo2IxZR/CvfBRss6\nibLjAVZsh1OAb9TlX0npohrt4u+aWpP1Ohz42oiyrzD6gcSZrPrLFX9Rj5p/TOmueGtmjnlGA8/Y\nZ+Amyva+ekTZo5n5IOXLOHK9v8bKgJ3V/R5ExL6d9ibw3yg7y60oZ/O/pQTZKyh3SR1O2ebvo3yn\n96b0qX+IsiM5ICKuoxyld8MCSpD9nNK1s7quyLOA11PuXCMzl1CC7MNR/tnhaEG2WlFuw/4U9Wi5\nDn8gVt6ePUh5n0+qy/wF5czgSFYGzeWUI/zlnZCfRgnlqyhH3b8Erq4HNodSrinuWOu9gLEP+I6l\nbOd7KN2Uh1HOAu4Cfr9T7yxK9/FmtZ3foVwg/5eI2DgiDqhnDVFvZnh5nWfX7cBLemdXtX27Ue4W\nG1WU29f37xSt9uB1bQ7k60HfiZQz2p0j4iWdrsNxl9mdkQ8fPjbgB+VC9s+BD3fKzqJcYIay43vl\niNf8IyVU9qfciTbceezL797evCnlwvAnWfX25u4t5e+idOUM1vHNgf9Xl38d8H3gnatZj0FWvb35\nqBF1/owS0r3bm/9sxPRTgeHO+AG1TZ/vlN0P3N3ZNjez8vb2t1MOPJbWab8dsW3OoBzp97bNf9R1\nW7Ft6na4lHL318213ikjts02lIC7t873ccpNCDdT7vAbbfu8hnKwsohy1vOGzrQV71en7AWU7sHe\nrdhXjFLnsc7w/pTAHfnZWkq5YeEsfvf25u6fXbyPcvC3Y133H9ZlXgy8fLzPsD9BI0lqan13nUmS\nnuWa/HqzpKkrys/5fGFE8RNZ7vCb0qbqtrHrTJLUlF1nkqSmDBpJUlMGjSSpKYNGktSUQSNJaur/\nA+AK0C4CG3voAAAAAElFTkSuQmCC\n",
      "text/plain": [
       "<matplotlib.figure.Figure at 0xd4c9eb6dd8>"
      ]
     },
     "metadata": {},
     "output_type": "display_data"
    }
   ],
   "source": [
    "plt.show()"
   ]
  },
  {
   "cell_type": "code",
   "execution_count": null,
   "metadata": {
    "collapsed": true
   },
   "outputs": [],
   "source": []
  }
 ],
 "metadata": {
  "kernelspec": {
   "display_name": "Python 3",
   "language": "python",
   "name": "python3"
  },
  "language_info": {
   "codemirror_mode": {
    "name": "ipython",
    "version": 3
   },
   "file_extension": ".py",
   "mimetype": "text/x-python",
   "name": "python",
   "nbconvert_exporter": "python",
   "pygments_lexer": "ipython3",
   "version": "3.6.3"
  }
 },
 "nbformat": 4,
 "nbformat_minor": 2
}
