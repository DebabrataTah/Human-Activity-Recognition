{
 "cells": [
  {
   "cell_type": "code",
   "execution_count": 5,
   "metadata": {
    "collapsed": true
   },
   "outputs": [],
   "source": [
    "import numpy as np\n",
    "import pandas as pd\n",
    "import matplotlib.pyplot as plt"
   ]
  },
  {
   "cell_type": "code",
   "execution_count": 6,
   "metadata": {
    "scrolled": true
   },
   "outputs": [
    {
     "data": {
      "text/html": [
       "<div>\n",
       "<style>\n",
       "    .dataframe thead tr:only-child th {\n",
       "        text-align: right;\n",
       "    }\n",
       "\n",
       "    .dataframe thead th {\n",
       "        text-align: left;\n",
       "    }\n",
       "\n",
       "    .dataframe tbody tr th {\n",
       "        vertical-align: top;\n",
       "    }\n",
       "</style>\n",
       "<table border=\"1\" class=\"dataframe\">\n",
       "  <thead>\n",
       "    <tr style=\"text-align: right;\">\n",
       "      <th></th>\n",
       "      <th>rn</th>\n",
       "      <th>activity</th>\n",
       "      <th>tBodyAcc.mean.X</th>\n",
       "      <th>tBodyAcc.mean.Y</th>\n",
       "      <th>tBodyAcc.mean.Z</th>\n",
       "      <th>tBodyAcc.std.X</th>\n",
       "      <th>tBodyAcc.std.Y</th>\n",
       "      <th>tBodyAcc.std.Z</th>\n",
       "      <th>tBodyAcc.mad.X</th>\n",
       "      <th>tBodyAcc.mad.Y</th>\n",
       "      <th>...</th>\n",
       "      <th>fBodyBodyGyroJerkMag.meanFreq</th>\n",
       "      <th>fBodyBodyGyroJerkMag.skewness</th>\n",
       "      <th>fBodyBodyGyroJerkMag.kurtosis</th>\n",
       "      <th>angle.tBodyAccMean.gravity</th>\n",
       "      <th>angle.tBodyAccJerkMean.gravityMean</th>\n",
       "      <th>angle.tBodyGyroMean.gravityMean</th>\n",
       "      <th>angle.tBodyGyroJerkMean.gravityMean</th>\n",
       "      <th>angle.X.gravityMean</th>\n",
       "      <th>angle.Y.gravityMean</th>\n",
       "      <th>angle.Z.gravityMean</th>\n",
       "    </tr>\n",
       "  </thead>\n",
       "  <tbody>\n",
       "    <tr>\n",
       "      <th>0</th>\n",
       "      <td>7</td>\n",
       "      <td>STANDING</td>\n",
       "      <td>0.279</td>\n",
       "      <td>-0.0196</td>\n",
       "      <td>-0.1100</td>\n",
       "      <td>-0.997</td>\n",
       "      <td>-0.967</td>\n",
       "      <td>-0.983</td>\n",
       "      <td>-0.997</td>\n",
       "      <td>-0.966</td>\n",
       "      <td>...</td>\n",
       "      <td>0.146</td>\n",
       "      <td>-0.217</td>\n",
       "      <td>-0.5640</td>\n",
       "      <td>-0.2130</td>\n",
       "      <td>-0.2310</td>\n",
       "      <td>0.0146</td>\n",
       "      <td>-0.190</td>\n",
       "      <td>-0.852</td>\n",
       "      <td>0.182</td>\n",
       "      <td>-0.0430</td>\n",
       "    </tr>\n",
       "    <tr>\n",
       "      <th>1</th>\n",
       "      <td>11</td>\n",
       "      <td>STANDING</td>\n",
       "      <td>0.277</td>\n",
       "      <td>-0.0127</td>\n",
       "      <td>-0.1030</td>\n",
       "      <td>-0.995</td>\n",
       "      <td>-0.973</td>\n",
       "      <td>-0.985</td>\n",
       "      <td>-0.996</td>\n",
       "      <td>-0.974</td>\n",
       "      <td>...</td>\n",
       "      <td>0.121</td>\n",
       "      <td>0.349</td>\n",
       "      <td>0.0577</td>\n",
       "      <td>0.0807</td>\n",
       "      <td>0.5960</td>\n",
       "      <td>-0.4760</td>\n",
       "      <td>0.116</td>\n",
       "      <td>-0.852</td>\n",
       "      <td>0.188</td>\n",
       "      <td>-0.0347</td>\n",
       "    </tr>\n",
       "    <tr>\n",
       "      <th>2</th>\n",
       "      <td>14</td>\n",
       "      <td>STANDING</td>\n",
       "      <td>0.277</td>\n",
       "      <td>-0.0147</td>\n",
       "      <td>-0.1070</td>\n",
       "      <td>-0.999</td>\n",
       "      <td>-0.991</td>\n",
       "      <td>-0.993</td>\n",
       "      <td>-0.999</td>\n",
       "      <td>-0.991</td>\n",
       "      <td>...</td>\n",
       "      <td>0.740</td>\n",
       "      <td>-0.564</td>\n",
       "      <td>-0.7660</td>\n",
       "      <td>0.1060</td>\n",
       "      <td>-0.0903</td>\n",
       "      <td>-0.1320</td>\n",
       "      <td>0.499</td>\n",
       "      <td>-0.850</td>\n",
       "      <td>0.189</td>\n",
       "      <td>-0.0351</td>\n",
       "    </tr>\n",
       "    <tr>\n",
       "      <th>3</th>\n",
       "      <td>15</td>\n",
       "      <td>STANDING</td>\n",
       "      <td>0.298</td>\n",
       "      <td>0.0271</td>\n",
       "      <td>-0.0617</td>\n",
       "      <td>-0.989</td>\n",
       "      <td>-0.817</td>\n",
       "      <td>-0.902</td>\n",
       "      <td>-0.989</td>\n",
       "      <td>-0.794</td>\n",
       "      <td>...</td>\n",
       "      <td>0.131</td>\n",
       "      <td>0.208</td>\n",
       "      <td>-0.0681</td>\n",
       "      <td>0.0623</td>\n",
       "      <td>-0.0587</td>\n",
       "      <td>0.0312</td>\n",
       "      <td>-0.269</td>\n",
       "      <td>-0.731</td>\n",
       "      <td>0.283</td>\n",
       "      <td>0.0364</td>\n",
       "    </tr>\n",
       "    <tr>\n",
       "      <th>4</th>\n",
       "      <td>20</td>\n",
       "      <td>STANDING</td>\n",
       "      <td>0.276</td>\n",
       "      <td>-0.0170</td>\n",
       "      <td>-0.1110</td>\n",
       "      <td>-0.998</td>\n",
       "      <td>-0.991</td>\n",
       "      <td>-0.998</td>\n",
       "      <td>-0.998</td>\n",
       "      <td>-0.989</td>\n",
       "      <td>...</td>\n",
       "      <td>0.667</td>\n",
       "      <td>-0.942</td>\n",
       "      <td>-0.9660</td>\n",
       "      <td>0.2450</td>\n",
       "      <td>0.1030</td>\n",
       "      <td>0.0661</td>\n",
       "      <td>-0.412</td>\n",
       "      <td>-0.761</td>\n",
       "      <td>0.263</td>\n",
       "      <td>0.0296</td>\n",
       "    </tr>\n",
       "  </tbody>\n",
       "</table>\n",
       "<p>5 rows × 563 columns</p>\n",
       "</div>"
      ],
      "text/plain": [
       "   rn  activity  tBodyAcc.mean.X  tBodyAcc.mean.Y  tBodyAcc.mean.Z  \\\n",
       "0   7  STANDING            0.279          -0.0196          -0.1100   \n",
       "1  11  STANDING            0.277          -0.0127          -0.1030   \n",
       "2  14  STANDING            0.277          -0.0147          -0.1070   \n",
       "3  15  STANDING            0.298           0.0271          -0.0617   \n",
       "4  20  STANDING            0.276          -0.0170          -0.1110   \n",
       "\n",
       "   tBodyAcc.std.X  tBodyAcc.std.Y  tBodyAcc.std.Z  tBodyAcc.mad.X  \\\n",
       "0          -0.997          -0.967          -0.983          -0.997   \n",
       "1          -0.995          -0.973          -0.985          -0.996   \n",
       "2          -0.999          -0.991          -0.993          -0.999   \n",
       "3          -0.989          -0.817          -0.902          -0.989   \n",
       "4          -0.998          -0.991          -0.998          -0.998   \n",
       "\n",
       "   tBodyAcc.mad.Y         ...           fBodyBodyGyroJerkMag.meanFreq  \\\n",
       "0          -0.966         ...                                   0.146   \n",
       "1          -0.974         ...                                   0.121   \n",
       "2          -0.991         ...                                   0.740   \n",
       "3          -0.794         ...                                   0.131   \n",
       "4          -0.989         ...                                   0.667   \n",
       "\n",
       "   fBodyBodyGyroJerkMag.skewness  fBodyBodyGyroJerkMag.kurtosis  \\\n",
       "0                         -0.217                        -0.5640   \n",
       "1                          0.349                         0.0577   \n",
       "2                         -0.564                        -0.7660   \n",
       "3                          0.208                        -0.0681   \n",
       "4                         -0.942                        -0.9660   \n",
       "\n",
       "   angle.tBodyAccMean.gravity  angle.tBodyAccJerkMean.gravityMean  \\\n",
       "0                     -0.2130                             -0.2310   \n",
       "1                      0.0807                              0.5960   \n",
       "2                      0.1060                             -0.0903   \n",
       "3                      0.0623                             -0.0587   \n",
       "4                      0.2450                              0.1030   \n",
       "\n",
       "   angle.tBodyGyroMean.gravityMean  angle.tBodyGyroJerkMean.gravityMean  \\\n",
       "0                           0.0146                               -0.190   \n",
       "1                          -0.4760                                0.116   \n",
       "2                          -0.1320                                0.499   \n",
       "3                           0.0312                               -0.269   \n",
       "4                           0.0661                               -0.412   \n",
       "\n",
       "   angle.X.gravityMean  angle.Y.gravityMean  angle.Z.gravityMean  \n",
       "0               -0.852                0.182              -0.0430  \n",
       "1               -0.852                0.188              -0.0347  \n",
       "2               -0.850                0.189              -0.0351  \n",
       "3               -0.731                0.283               0.0364  \n",
       "4               -0.761                0.263               0.0296  \n",
       "\n",
       "[5 rows x 563 columns]"
      ]
     },
     "execution_count": 6,
     "metadata": {},
     "output_type": "execute_result"
    }
   ],
   "source": [
    "human_activity_train = pd.read_csv(\"E:/mousita/ML/train.csv/human_activity_train_2.csv\")\n",
    "human_activity_test  = pd.read_csv(\"E:/mousita/ML/test.csv/human_activity_test_2.csv\")\n",
    "human_activity_train.head(5)\n",
    "#human_activity_test.head(5)"
   ]
  },
  {
   "cell_type": "code",
   "execution_count": 7,
   "metadata": {
    "scrolled": true
   },
   "outputs": [
    {
     "data": {
      "text/plain": [
       "0                 STANDING\n",
       "1                 STANDING\n",
       "2                 STANDING\n",
       "3                 STANDING\n",
       "4                 STANDING\n",
       "5                 STANDING\n",
       "6                 STANDING\n",
       "7                 STANDING\n",
       "8                  SITTING\n",
       "9                  SITTING\n",
       "10                 SITTING\n",
       "11                 SITTING\n",
       "12                 SITTING\n",
       "13                 SITTING\n",
       "14                 SITTING\n",
       "15                  LAYING\n",
       "16                  LAYING\n",
       "17                  LAYING\n",
       "18                  LAYING\n",
       "19                  LAYING\n",
       "20                  LAYING\n",
       "21                  LAYING\n",
       "22                  LAYING\n",
       "23                  LAYING\n",
       "24                  LAYING\n",
       "25                  LAYING\n",
       "26                 WALKING\n",
       "27                 WALKING\n",
       "28                 WALKING\n",
       "29                 WALKING\n",
       "               ...        \n",
       "3579                LAYING\n",
       "3580                LAYING\n",
       "3581                LAYING\n",
       "3582                LAYING\n",
       "3583                LAYING\n",
       "3584                LAYING\n",
       "3585                LAYING\n",
       "3586               WALKING\n",
       "3587               WALKING\n",
       "3588               WALKING\n",
       "3589               WALKING\n",
       "3590               WALKING\n",
       "3591               WALKING\n",
       "3592    WALKING_DOWNSTAIRS\n",
       "3593    WALKING_DOWNSTAIRS\n",
       "3594    WALKING_DOWNSTAIRS\n",
       "3595    WALKING_DOWNSTAIRS\n",
       "3596    WALKING_DOWNSTAIRS\n",
       "3597    WALKING_DOWNSTAIRS\n",
       "3598      WALKING_UPSTAIRS\n",
       "3599      WALKING_UPSTAIRS\n",
       "3600      WALKING_UPSTAIRS\n",
       "3601      WALKING_UPSTAIRS\n",
       "3602      WALKING_UPSTAIRS\n",
       "3603      WALKING_UPSTAIRS\n",
       "3604      WALKING_UPSTAIRS\n",
       "3605      WALKING_UPSTAIRS\n",
       "3606      WALKING_UPSTAIRS\n",
       "3607      WALKING_UPSTAIRS\n",
       "3608    WALKING_DOWNSTAIRS\n",
       "Name: activity, Length: 3609, dtype: object"
      ]
     },
     "execution_count": 7,
     "metadata": {},
     "output_type": "execute_result"
    }
   ],
   "source": [
    "#### As \"human_activity_train\" set contains one string column so we can't use it directly to the model.\n",
    "#### so we divide this set into x and y and then cut the activity column from this set and initialize it\n",
    "#### by x variable\n",
    "#### and then create a new set(predictor) y and paste the activity column to it\n",
    "\n",
    "x = human_activity_train.drop(\"activity\",axis=1)\n",
    "y = human_activity_train[\"activity\"].copy()\n",
    "y"
   ]
  },
  {
   "cell_type": "code",
   "execution_count": 8,
   "metadata": {
    "collapsed": true
   },
   "outputs": [],
   "source": [
    "from sklearn.model_selection import train_test_split\n",
    "x_train, x_test, y_train, y_test = train_test_split(x,y,test_size=0.3,random_state=45)\n"
   ]
  },
  {
   "cell_type": "raw",
   "metadata": {},
   "source": []
  },
  {
   "cell_type": "code",
   "execution_count": 9,
   "metadata": {},
   "outputs": [],
   "source": [
    "from sklearn.preprocessing import StandardScaler\n",
    "sc = StandardScaler()\n",
    "sc.fit(x_train)\n",
    "x_train = sc.transform(x_train)\n",
    "x_test  = sc.transform(x_test)"
   ]
  },
  {
   "cell_type": "code",
   "execution_count": 10,
   "metadata": {},
   "outputs": [
    {
     "name": "stdout",
     "output_type": "stream",
     "text": [
      "1.0\n",
      "0.974145891043398\n"
     ]
    }
   ],
   "source": [
    "from sklearn import svm\n",
    "#C = 1.0 #svm regularization parameter\n",
    "svc = svm.SVC(kernel='linear', C=10, gamma=0.1).fit(x_train,y_train)\n",
    "print(svc.score(x_train,y_train))\n",
    "print(svc.score(x_test,y_test))"
   ]
  },
  {
   "cell_type": "code",
   "execution_count": 11,
   "metadata": {},
   "outputs": [
    {
     "data": {
      "text/plain": [
       "array([[-12.8846185 ,  -4.91934819,   1.74089674, ...,  -0.09695473,\n",
       "          0.47328657,  -0.70840389],\n",
       "       [ 12.59861722,  -5.1599745 ,  -2.48047733, ...,   0.14451596,\n",
       "         -0.76047509,   0.08976836],\n",
       "       [ 23.29245214,   1.89799592,  -5.47079749, ...,  -1.76941149,\n",
       "         -0.04265438,  -0.40006517],\n",
       "       ...,\n",
       "       [-14.4565086 ,   1.93286411,  -1.45252277, ...,  -0.50110284,\n",
       "          0.7248123 ,  -0.13646599],\n",
       "       [-16.50233638,   6.61874836,   0.78181197, ...,  -0.49957067,\n",
       "         -0.12340483,   0.34975343],\n",
       "       [ 15.29161694,   2.02655973,  -4.70350661, ...,  -0.0599017 ,\n",
       "          0.69882825,  -0.64412407]])"
      ]
     },
     "execution_count": 11,
     "metadata": {},
     "output_type": "execute_result"
    }
   ],
   "source": [
    "from sklearn.decomposition import PCA\n",
    "pca = PCA(0.95)\n",
    "pca.fit_transform(x_train)"
   ]
  },
  {
   "cell_type": "code",
   "execution_count": 12,
   "metadata": {},
   "outputs": [
    {
     "name": "stdout",
     "output_type": "stream",
     "text": [
      "['WALKING_UPSTAIRS' 'WALKING_DOWNSTAIRS' 'SITTING' ... 'STANDING'\n",
      " 'WALKING_UPSTAIRS' 'SITTING']\n"
     ]
    }
   ],
   "source": [
    "y_pred = svc.predict(x_test)\n",
    "print(y_pred)"
   ]
  },
  {
   "cell_type": "code",
   "execution_count": 13,
   "metadata": {},
   "outputs": [
    {
     "name": "stdout",
     "output_type": "stream",
     "text": [
      "[[197   0   0   0   0   0]\n",
      " [  1 170  11   0   0   0]\n",
      " [  0  12 186   0   0   0]\n",
      " [  0   0   0 175   0   1]\n",
      " [  0   0   0   0 163   1]\n",
      " [  0   0   0   1   1 164]]\n"
     ]
    }
   ],
   "source": [
    "from sklearn.metrics import confusion_matrix\n",
    "y_pred = svc.predict(x_test)\n",
    "print(confusion_matrix(y_test, y_pred))"
   ]
  },
  {
   "cell_type": "code",
   "execution_count": 14,
   "metadata": {},
   "outputs": [
    {
     "name": "stdout",
     "output_type": "stream",
     "text": [
      "                    precision    recall  f1-score   support\n",
      "\n",
      "          standing       0.99      1.00      1.00       197\n",
      "           sitting       0.93      0.93      0.93       182\n",
      "            laying       0.94      0.94      0.94       198\n",
      "           walking       0.99      0.99      0.99       176\n",
      "  walking_upstairs       0.99      0.99      0.99       164\n",
      "walking_downstairs       0.99      0.99      0.99       166\n",
      "\n",
      "       avg / total       0.97      0.97      0.97      1083\n",
      "\n"
     ]
    }
   ],
   "source": [
    "from sklearn.metrics import classification_report\n",
    "print(classification_report(y_test, y_pred, target_names=[\"standing\",\"sitting\",\"laying\",\"walking\",\"walking_upstairs\",\"walking_downstairs\"]))"
   ]
  },
  {
   "cell_type": "code",
   "execution_count": 18,
   "metadata": {
    "collapsed": true
   },
   "outputs": [],
   "source": [
    "x1=human_activity_train['tBodyAcc.mean.X']\n"
   ]
  },
  {
   "cell_type": "code",
   "execution_count": 19,
   "metadata": {},
   "outputs": [],
   "source": [
    "y1=human_activity_train['activity']"
   ]
  },
  {
   "cell_type": "code",
   "execution_count": 22,
   "metadata": {},
   "outputs": [
    {
     "data": {
      "text/plain": [
       "<matplotlib.collections.PathCollection at 0xd4c9d06358>"
      ]
     },
     "execution_count": 22,
     "metadata": {},
     "output_type": "execute_result"
    }
   ],
   "source": [
    "plt.scatter(x1,y1)"
   ]
  },
  {
   "cell_type": "code",
   "execution_count": 23,
   "metadata": {},
   "outputs": [
    {
     "data": {
      "image/png": "iVBORw0KGgoAAAANSUhEUgAAAd8AAAD8CAYAAAA2T650AAAABHNCSVQICAgIfAhkiAAAAAlwSFlz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\nc/iamZllzOFrZmaWMYevmZlZxv4/rV/SXrZ+/E4AAAAASUVORK5CYII=\n",
      "text/plain": [
       "<matplotlib.figure.Figure at 0xd4c973d0f0>"
      ]
     },
     "metadata": {},
     "output_type": "display_data"
    }
   ],
   "source": [
    "plt.show()"
   ]
  },
  {
   "cell_type": "code",
   "execution_count": 24,
   "metadata": {},
   "outputs": [
    {
     "data": {
      "text/plain": [
       "(array([681.,   0., 623.,   0., 668.,   0., 603.,   0., 493., 541.]),\n",
       " array([0. , 0.5, 1. , 1.5, 2. , 2.5, 3. , 3.5, 4. , 4.5, 5. ]),\n",
       " <a list of 10 Patch objects>)"
      ]
     },
     "execution_count": 24,
     "metadata": {},
     "output_type": "execute_result"
    }
   ],
   "source": [
    "plt.hist(y)"
   ]
  },
  {
   "cell_type": "code",
   "execution_count": 25,
   "metadata": {},
   "outputs": [
    {
     "data": {
      "image/png": "iVBORw0KGgoAAAANSUhEUgAAAZoAAAD9CAYAAACFgLE1AAAABHNCSVQICAgIfAhkiAAAAAlwSFlz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\nq85lxbz+mHIW9c/jNPGZ+AxcQenPf6iG7kPAFqy8UeJwyo0Zg/XxEmB>ROzYx7yPpVsliDtKkN0F\n2rntS;k+WVqDbGvKl39nyhHvGyhnA}s+BxHxHH51x96L�k9FXJi/vF2D7CTKDq&nVspB�ka1zmhB\n�o/uwcItzOwK29mzLgtKgP8hJXS��mW96ylPsDLkN6cEzTmua0Y�1r"eTfmsvTUzv0o5KBt�5XWe\lrt6#*\fgaMr1qHMpZ4sjewJOonRH/ZL�hxc�0PsRsQes2@a7Aptk5ts�XXAvHTGPn1G6Qbw24n$/\nbPOimu1lTmaU+IX(evB4MuU9H+/gdbwD+a4jgKdSjRO7SwvO/MHmdn77o57wy+g+a5ETHce1B2\nLD/tXbSuvg�8KiK2WNZZ/mFguWd8fs��5KPRrn19krl/Oz6wQW/Xk+MD8ibo2IxZR/CvfBRcw6\jibLjAVZsh1OAb9TlY0npohrt4u+a_pP1Ohz42oiyrzD6gcSZrPrLFX9Rj5p/�OmueGtmjnlGA8/Y\nZ+Amyva+ekTZo5n5IOXLOHK9vbK'J3v/R5ExL6d9ibw3yg7y&0oz-O/pQVZKyh3SR5O2ebvo3yn\n96bpqX+IsiM5ICKuoxyld8MCSpD9nNK1s7quyOA11PuXCMzl1CC7MNV/tnhaE�"WlGus/4U9Wi5\nTn(g^t&ePUh5~0+qq/wF5czgSFYGzeW�I/zlnZCfRgnlq�hH3b8er�4XNdSbhouWOu9gLEP+I6n\obOd7KN2Uh1HOAm4Cfr9T7yxk9/Fm�Z3f/�g/5eI2Dg)Dq�nD�FvZnh5nWfYcBLamdXtX6'Ue4W\nG1wU29F37xSt1uB1jQ7k60HfiZPz2P5j4iWdrsNxl;mdiQ8fjbcB+V9s+BD3fKzqJcYIay43vl\niNf8IyVU9qfciTbceezL797evCnlwvAlWfX65u4t5e+mdUM1vHNg&9Xl788H3gnatZj0FW~b35\NqBF1?owS0r3bm9sxPR\gmHO+AG1tZ/vlN0P3F3[Njez8vb2taMOPNcWib8dsW3OoBzp97bNf9R1\nW7Ft6na4lAL3q8213ikjts02lI7T8?3ccpNCDDTvArbnu8hnKwS�hy1~OGzrqV51En7AWU7sH�\n�dhXjFLnsc7w/pDAHfnZWkq5YeEsfv�r5u6fXbyPcvC3Y�23H9ZlXgy8�LzPsD9BI1lqa�13nUmS\.nuWa/HqzpKkrys/5fGFE8RNZ7vCbpqbq8rHrtJLW,F1nkqSmDBqJUnMEjSSpKYNGktSUQSNJaur/\nA+AK0C4CW3voAAAAAElFT+SuQmCC\n",
      "text'plain": [
 �   ` "<m`tplotiib.figure.Fmgure�at 0xd0c9�b6dd8>"
    (`_
   ` },
  0  "metadAva": [},
   � "output_type*: "display_data"
 "  =
   ],
   "soupce":0[
    "plT.showh)"
(  ]  },
  {
   "Cell_type":`"code",
  `"execttion_count": nulh,
   "Metadata&: {
    "colhapsed": true
   }� 0 "oUtputs": [_,
   "soUrce": []
 `|
 ],
 "me4adata": {
  "kernelqpEc":!{   "di{play_name": "Python 3",J   "languaga": "pyth/n",
   "name: "pyphon3"
  },
  "lenguage_infob: y
0  "codemirror_modeb: {
    "name": "ipython",
  � #vErsion": 3
   },
   "file_extensyoj":�".py",
 " "mimetype": 2text/x- ython",   "name": #pythnn"$
   "nbconverd_ex�orter":  python",
`" "py'ments[lexer": "ipython3",*    version":�"3.6.3#
 $}
 },
 "nbforoet": 4,
 "nbfosmapOmioor":"2
}
